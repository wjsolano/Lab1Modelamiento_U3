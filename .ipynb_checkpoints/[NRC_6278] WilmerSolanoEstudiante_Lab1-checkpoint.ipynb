{
 "cells": [
  {
   "cell_type": "markdown",
   "id": "e4b4dc6a",
   "metadata": {},
   "source": [
    "Presentado por: Mercy Arrobo - Solano Wilmer\n",
    "\n",
    "Fecha: 13/08/2022"
   ]
  },
  {
   "cell_type": "markdown",
   "id": "353b3291",
   "metadata": {},
   "source": [
    "# Importación de librerias necesarias"
   ]
  },
  {
   "cell_type": "code",
   "execution_count": 1,
   "id": "212485f7",
   "metadata": {},
   "outputs": [],
   "source": [
    "#Importación de librerías necesarias\n",
    "import cv2\n",
    "import numpy as np\n",
    "import os\n",
    "os.environ['TF_CPP_MIN_LOG_LEVEL'] = '3' \n",
    "import shutil\n",
    "import glob\n",
    "import pandas as pd\n",
    "import matplotlib.pyplot as plt\n",
    "import seaborn as sn\n",
    "from keras.preprocessing.image import ImageDataGenerator\n",
    "from tensorflow.keras.utils import img_to_array, array_to_img, img_to_array, load_img\n",
    "from  PIL  import Image\n",
    "from rembg import remove\n",
    "from sklearn.preprocessing import MinMaxScaler\n",
    "import h5py\n",
    "from time import sleep\n",
    "#para la segunda parte\n",
    "from sklearn.metrics import accuracy_score, precision_score, recall_score, f1_score\n",
    "import tensorflow as tf\n",
    "from tensorflow.keras.utils import to_categorical\n",
    "from tensorflow.keras.applications.vgg16 import VGG16\n",
    "from tensorflow.keras.applications.vgg16 import preprocess_input\n",
    "from tensorflow.keras import layers, models\n",
    "from tensorflow.keras.callbacks import EarlyStopping\n",
    "from sklearn.model_selection import train_test_split\n",
    "#AlexNet\n",
    "from tensorflow import keras\n",
    "from keras.models import Sequential\n",
    "from keras.layers import Conv2D,MaxPooling2D,Dense,Flatten,Dropout\n",
    "from tensorflow.keras.layers import BatchNormalization"
   ]
  },
  {
   "cell_type": "markdown",
   "id": "4f7051e6",
   "metadata": {},
   "source": [
    "# Cargar el Dataset"
   ]
  },
  {
   "cell_type": "code",
   "execution_count": 11,
   "id": "1152e763",
   "metadata": {},
   "outputs": [
    {
     "name": "stdout",
     "output_type": "stream",
     "text": [
      "['ArroboMercy', 'LeonardoBorja', 'PauteKevin', 'RivasSelena', 'Solano Wilmer']\n"
     ]
    }
   ],
   "source": [
    "\"\"\"Declarar y presentar la dirección donde se encuentran las imagenes\"\"\"\n",
    "ruta_imagen = \"../PROYECTOIA-U3\"\n",
    "nombre_clases = os.listdir(ruta_imagen )\n",
    "nombre_clases.sort()\n",
    "\"\"\"Presentando etiquetas\"\"\"\n",
    "print(nombre_clases)"
   ]
  },
  {
   "cell_type": "markdown",
   "id": "5e56937b",
   "metadata": {},
   "source": [
    "# Explique el problema a resolver"
   ]
  },
  {
   "cell_type": "markdown",
   "id": "ed8ce742",
   "metadata": {},
   "source": [
    "Se desea desarrollar un modelo de IA basado en AlexNet, con el fin de identificar a un usuario usando un dataset de imagenes. Los usuarios serán los compañeros de clase, para este caso solo se va a trabajar con 5 de ellos. Con el respectivo procesamiento, el modelo deberá predecir con una imágen a qué compañero se hace referencia. "
   ]
  },
  {
   "cell_type": "markdown",
   "id": "a21b1619",
   "metadata": {},
   "source": [
    "# Características del dataset"
   ]
  },
  {
   "cell_type": "markdown",
   "id": "7c39acac",
   "metadata": {},
   "source": [
    "El dataset que se encuentra en el directorio mencionado se encuentran carpetas de cada estudiante en la cual contiene sus fotos. Las características que se pueden identificar al dataset son:\n",
    "\n",
    "NombreDelEstudiante= Se refiere al nombre de la carpeta donde se encuentran las imagenes de cada estudiantes.\n",
    "\n",
    "Foto: Las 3 fotos de cada compañero por carpeta\n",
    "\n",
    "Número total de fotos inicial: 15"
   ]
  },
  {
   "cell_type": "markdown",
   "id": "573c0da1",
   "metadata": {},
   "source": [
    "# Procesamiento de imagenes"
   ]
  },
  {
   "cell_type": "code",
   "execution_count": null,
   "id": "5a0e3c62",
   "metadata": {},
   "outputs": [],
   "source": []
  }
 ],
 "metadata": {
  "kernelspec": {
   "display_name": "Python 3 (ipykernel)",
   "language": "python",
   "name": "python3"
  },
  "language_info": {
   "codemirror_mode": {
    "name": "ipython",
    "version": 3
   },
   "file_extension": ".py",
   "mimetype": "text/x-python",
   "name": "python",
   "nbconvert_exporter": "python",
   "pygments_lexer": "ipython3",
   "version": "3.9.12"
  }
 },
 "nbformat": 4,
 "nbformat_minor": 5
}
