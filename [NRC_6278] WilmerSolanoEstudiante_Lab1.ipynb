{
 "cells": [
  {
   "cell_type": "markdown",
   "id": "032cb091",
   "metadata": {},
   "source": [
    "Presentado por: Mercy Arrobo - Solano Wilmer\n",
    "\n",
    "Fecha: 13/08/2022"
   ]
  },
  {
   "cell_type": "markdown",
   "id": "67318426",
   "metadata": {},
   "source": [
    "# Importación de librerias necesarias"
   ]
  },
  {
   "cell_type": "code",
   "execution_count": 1,
   "id": "15c91ca5",
   "metadata": {},
   "outputs": [],
   "source": [
    "#Importación de librerías necesarias\n",
    "import cv2\n",
    "import numpy as np\n",
    "import os\n",
    "os.environ['TF_CPP_MIN_LOG_LEVEL'] = '3' \n",
    "import shutil\n",
    "import glob\n",
    "import pandas as pd\n",
    "import matplotlib.pyplot as plt\n",
    "import seaborn as sn\n",
    "from keras.preprocessing.image import ImageDataGenerator\n",
    "from tensorflow.keras.utils import img_to_array, array_to_img, img_to_array, load_img\n",
    "from  PIL  import Image\n",
    "from rembg import remove\n",
    "from sklearn.preprocessing import MinMaxScaler\n",
    "import h5py\n",
    "from time import sleep\n",
    "#para la segunda parte\n",
    "from sklearn.metrics import accuracy_score, precision_score, recall_score, f1_score\n",
    "import tensorflow as tf\n",
    "from tensorflow.keras.utils import to_categorical\n",
    "from tensorflow.keras.applications.vgg16 import VGG16\n",
    "from tensorflow.keras.applications.vgg16 import preprocess_input\n",
    "from tensorflow.keras import layers, models\n",
    "from tensorflow.keras.callbacks import EarlyStopping\n",
    "from sklearn.model_selection import train_test_split\n",
    "#AlexNet\n",
    "from tensorflow import keras\n",
    "from keras.models import Sequential\n",
    "from keras.layers import Conv2D,MaxPooling2D,Dense,Flatten,Dropout\n",
    "from tensorflow.keras.layers import BatchNormalization"
   ]
  },
  {
   "cell_type": "markdown",
   "id": "c39ff30f",
   "metadata": {},
   "source": [
    "# Cargar el Dataset"
   ]
  },
  {
   "cell_type": "code",
   "execution_count": 12,
   "id": "ea0bb131",
   "metadata": {},
   "outputs": [
    {
     "name": "stdout",
     "output_type": "stream",
     "text": [
      "['ArroboMercy', 'LeonardoBorja', 'PauteKevin', 'RivasSelena', 'Solano Wilmer']\n"
     ]
    }
   ],
   "source": [
    "\"\"\"Declarar y presentar la dirección donde se encuentran las imagenes\"\"\"\n",
    "ruta_imagen = \"./PROYECTOIA-U3\"\n",
    "nombre_clases = os.listdir(ruta_imagen )\n",
    "nombre_clases.sort()\n",
    "\"\"\"Presentando etiquetas\"\"\"\n",
    "print(nombre_clases)"
   ]
  },
  {
   "cell_type": "markdown",
   "id": "03ad3dd4",
   "metadata": {},
   "source": [
    "# Explique el problema a resolver"
   ]
  },
  {
   "cell_type": "markdown",
   "id": "0b817a26",
   "metadata": {},
   "source": [
    "Se desea desarrollar un modelo de IA basado en AlexNet, con el fin de identificar a un usuario usando un dataset de imagenes. Los usuarios serán los compañeros de clase, para este caso solo se va a trabajar con 5 de ellos. Con el respectivo procesamiento, el modelo deberá predecir con una imágen a qué compañero se hace referencia. "
   ]
  },
  {
   "cell_type": "markdown",
   "id": "59003e4b",
   "metadata": {},
   "source": [
    "# Características del dataset"
   ]
  },
  {
   "cell_type": "markdown",
   "id": "de753781",
   "metadata": {},
   "source": [
    "El dataset que se encuentra en el directorio mencionado se encuentran carpetas de cada estudiante en la cual contiene sus fotos. Las características que se pueden identificar al dataset son:\n",
    "\n",
    "NombreDelEstudiante= Se refiere al nombre de la carpeta donde se encuentran las imagenes de cada estudiantes.\n",
    "\n",
    "Foto: Las 3 fotos de cada compañero por carpeta\n",
    "\n",
    "Número total de fotos inicial: 15"
   ]
  },
  {
   "cell_type": "markdown",
   "id": "535df679",
   "metadata": {},
   "source": [
    "# Procesamiento de imagenes"
   ]
  },
  {
   "cell_type": "code",
   "execution_count": 13,
   "id": "1cee864a",
   "metadata": {},
   "outputs": [
    {
     "name": "stdout",
     "output_type": "stream",
     "text": [
      "Copiando imagen - L00385770_1.png in PROYECTOIA-U3_Aumento/ArroboMercy\n",
      "Copiando imagen - L00385770_2.png in PROYECTOIA-U3_Aumento/ArroboMercy\n",
      "Copiando imagen - L00385770_3.png in PROYECTOIA-U3_Aumento/ArroboMercy\n",
      "Copiando imagen - L00393007_1.png in PROYECTOIA-U3_Aumento/LeonardoBorja\n",
      "Copiando imagen - L00393007_2.png in PROYECTOIA-U3_Aumento/LeonardoBorja\n",
      "Copiando imagen - L00393007_3.png in PROYECTOIA-U3_Aumento/LeonardoBorja\n",
      "Copiando imagen - L00080134_1.jpg in PROYECTOIA-U3_Aumento/PauteKevin\n",
      "Copiando imagen - L00080134_2.jpg in PROYECTOIA-U3_Aumento/PauteKevin\n",
      "Copiando imagen - L00080134_3.jpg in PROYECTOIA-U3_Aumento/PauteKevin\n",
      "Copiando imagen - L00376689_1.png in PROYECTOIA-U3_Aumento/RivasSelena\n",
      "Copiando imagen - L00376689_2.png in PROYECTOIA-U3_Aumento/RivasSelena\n",
      "Copiando imagen - L00376689_3.png in PROYECTOIA-U3_Aumento/RivasSelena\n",
      "Copiando imagen - L00392980_1.png in PROYECTOIA-U3_Aumento/Solano Wilmer\n",
      "Copiando imagen - L00392980_2.png in PROYECTOIA-U3_Aumento/Solano Wilmer\n",
      "Copiando imagen - L00392980_3.png in PROYECTOIA-U3_Aumento/Solano Wilmer\n"
     ]
    }
   ],
   "source": [
    "\"\"\"Ciclo for para reocrren el nombre de las etiquetas\"\"\"\n",
    "for nombre_clase in nombre_clases:\n",
    "    cur_path = ruta_imagen + \"/\" + nombre_clase\n",
    "    elements = os.listdir(cur_path)\n",
    "    \"\"\"Copiando las imágenes en una nueva carpeta\"\"\"\n",
    "    for element in elements:\n",
    "        print(\"Copiando imagen - {} in PROYECTOIA-U3_Aumento/{}\".format(element, nombre_clase))\n",
    "        src = os.path.join(ruta_imagen  + \"/\" + nombre_clase, element) # origen\n",
    "        dst = os.path.join(\"./PROYECTOIA-U3_Aumento/\" + nombre_clase, element) \n",
    "        shutil.copy(src, dst)"
   ]
  },
  {
   "cell_type": "markdown",
   "id": "c2008ec5",
   "metadata": {},
   "source": [
    "# Evaluación del Modelo"
   ]
  },
  {
   "cell_type": "code",
   "execution_count": 14,
   "id": "39945bfb",
   "metadata": {},
   "outputs": [],
   "source": [
    "\"\"\"Generando imagenes nuevas\"\"\"\n",
    "datagen = ImageDataGenerator(\n",
    "        rotation_range=40,\n",
    "        width_shift_range=0.2,\n",
    "        height_shift_range=0.2,\n",
    "        rescale=1./255,\n",
    "        shear_range=0.2,\n",
    "        zoom_range=0.4,\n",
    "        horizontal_flip=True,\n",
    "        fill_mode='nearest')"
   ]
  },
  {
   "cell_type": "markdown",
   "id": "f222619f",
   "metadata": {},
   "source": [
    "# Arrobo Mercy"
   ]
  },
  {
   "cell_type": "code",
   "execution_count": 15,
   "id": "28f80255",
   "metadata": {},
   "outputs": [],
   "source": [
    "\"\"\"Creando imágenes para la carpeta de Mercy\"\"\"\n",
    "os.chdir(r\"C:\\Users\\wilme\\Laboratorio1_U3\\PROYECTOIA-U3_Aumento\\ArroboMercy\")\n",
    "for path in os.listdir():\n",
    "    img = load_img(f\"{path}\")\n",
    "    x = img_to_array(img)    \n",
    "    x = x.reshape((1,) + x.shape)\n",
    "    i = 0\n",
    "    for batch in datagen.flow(x, batch_size=1,\n",
    "            save_to_dir=\".\", \n",
    "            save_prefix= 'ArroboMercy', \n",
    "            save_format='png'):\n",
    "        i += 1\n",
    "        if i == 9:    \n",
    "            break "
   ]
  },
  {
   "cell_type": "markdown",
   "id": "3aebb425",
   "metadata": {},
   "source": [
    "# Leonardo Borja"
   ]
  },
  {
   "cell_type": "code",
   "execution_count": 16,
   "id": "348cb790",
   "metadata": {},
   "outputs": [],
   "source": [
    "\"\"\"Creando imágenes para la carpeta de Borja\"\"\"\n",
    "os.chdir(r\"C:\\Users\\wilme\\Laboratorio1_U3\\PROYECTOIA-U3_Aumento\\LeonardoBorja\")\n",
    "for path in os.listdir():\n",
    "    img = load_img(f\"{path}\")\n",
    "    x = img_to_array(img)    \n",
    "    x = x.reshape((1,) + x.shape)\n",
    "    i = 0\n",
    "    for batch in datagen.flow(x, batch_size=1,\n",
    "            save_to_dir=\".\",  \n",
    "            save_prefix= 'LeonardoBorja', \n",
    "            save_format='png'):\n",
    "        i += 1\n",
    "        if i == 9:     \n",
    "            break "
   ]
  },
  {
   "cell_type": "markdown",
   "id": "06a58db4",
   "metadata": {},
   "source": [
    "# Paute Kevin"
   ]
  },
  {
   "cell_type": "code",
   "execution_count": 17,
   "id": "ab264f67",
   "metadata": {},
   "outputs": [],
   "source": [
    "\"\"\"Creando imágenes para la carpeta de Paute\"\"\"\n",
    "os.chdir(r\"C:\\Users\\wilme\\Laboratorio1_U3\\PROYECTOIA-U3_Aumento\\PauteKevin\")\n",
    "for path in os.listdir():\n",
    "    img = load_img(f\"{path}\")\n",
    "    x = img_to_array(img)    \n",
    "    x = x.reshape((1,) + x.shape)\n",
    "    i = 0\n",
    "    for batch in datagen.flow(x, batch_size=1,\n",
    "            save_to_dir=\".\",   \n",
    "            save_prefix= 'PauteKevin', \n",
    "            save_format='png'):\n",
    "        i += 1\n",
    "        if i == 9:     \n",
    "            break "
   ]
  },
  {
   "cell_type": "markdown",
   "id": "bb8c8f74",
   "metadata": {},
   "source": [
    "# RivasSelena"
   ]
  },
  {
   "cell_type": "code",
   "execution_count": 18,
   "id": "447d1abf",
   "metadata": {},
   "outputs": [],
   "source": [
    "\"\"\"Creando imágenes para la carpeta de Rivas\"\"\"\n",
    "os.chdir(r\"C:\\Users\\wilme\\Laboratorio1_U3\\PROYECTOIA-U3_Aumento\\RivasSelena\")\n",
    "for path in os.listdir():\n",
    "    img = load_img(f\"{path}\")\n",
    "    x = img_to_array(img)    \n",
    "    x = x.reshape((1,) + x.shape)\n",
    "    i = 0\n",
    "    for batch in datagen.flow(x, batch_size=1,\n",
    "            save_to_dir=\".\",   \n",
    "            save_prefix= 'RivasSelena', \n",
    "            save_format='png'):\n",
    "        i += 1\n",
    "        if i == 9:     \n",
    "            break "
   ]
  },
  {
   "cell_type": "markdown",
   "id": "382ea239",
   "metadata": {},
   "source": [
    "# Solano Wilmer"
   ]
  },
  {
   "cell_type": "code",
   "execution_count": 19,
   "id": "775ac057",
   "metadata": {},
   "outputs": [],
   "source": [
    "\"\"\"Creando imágenes para la carpeta de Solano\"\"\"\n",
    "os.chdir(r\"C:\\Users\\wilme\\Laboratorio1_U3\\PROYECTOIA-U3_Aumento\\Solano Wilmer\")\n",
    "for path in os.listdir():\n",
    "    img = load_img(f\"{path}\")\n",
    "    x = img_to_array(img)    \n",
    "    x = x.reshape((1,) + x.shape)\n",
    "    i = 0\n",
    "    for batch in datagen.flow(x, batch_size=1,\n",
    "            save_to_dir=\".\",   \n",
    "            save_prefix= 'Solano Wilmer', \n",
    "            save_format='png'):\n",
    "        i += 1\n",
    "        if i == 9:     \n",
    "            break"
   ]
  },
  {
   "cell_type": "markdown",
   "id": "237ee267",
   "metadata": {},
   "source": [
    "# Filtro NLM para eliminación de ruido de imágenes"
   ]
  },
  {
   "cell_type": "code",
   "execution_count": 20,
   "id": "d7a3be9c",
   "metadata": {},
   "outputs": [
    {
     "name": "stdout",
     "output_type": "stream",
     "text": [
      "['ArroboMercy', 'LeonardoBorja', 'PauteKevin', 'RivasSelena', 'Solano Wilmer']\n"
     ]
    }
   ],
   "source": [
    "\"\"\"Obteniendo etiquetas de la nueva carpeta que se ha creado\"\"\"\n",
    "os.chdir(r\"C:\\Users\\wilme\\Laboratorio1_U3\")\n",
    "ruta_imagen = \"./PROYECTOIA-U3_Aumento\"\n",
    "nombre_clases = os.listdir(ruta_imagen)\n",
    "nombre_clases.sort()\n",
    "print(nombre_clases)"
   ]
  },
  {
   "cell_type": "code",
   "execution_count": null,
   "id": "335552cb",
   "metadata": {},
   "outputs": [],
   "source": [
    "\"\"\"Recorriendo la ruta y el nombre de cada carpeta\"\"\"\n",
    "for nombre_clase in nombre_clases:\n",
    "    cur_path = ruta_imagen + \"/\" + nombre_clase\n",
    "    cur_label = nombre_clase\n",
    "    i = 1\n",
    "    \"\"\"Ciclo for para que se elimine el ruido de cada imágen\"\"\"\n",
    "    for file in glob.glob(cur_path + \"/*\"):\n",
    "        print(\"Imagen de procesamiento - {} in {}\".format(i, cur_label))\n",
    "        # leer la ruta de las imágenes\n",
    "        image = cv2.imread(file)\n",
    "        # Imágenes de denoising\n",
    "        dst = cv2.fastNlMeansDenoisingColored(image,None,10,10,7,21)\n",
    "        b,g,r = cv2.split(dst)\n",
    "        rgb_dst = cv2.merge([r,g,b])\n",
    "        # guardando imágenes\n",
    "        save_path = './PROYECTOIA-U3_eliminarRuido/'+ cur_label\n",
    "        cv2.imwrite(os.path.join(save_path , cur_label + '_' + str(i) + '.png'),\n",
    "                    cv2.cvtColor(rgb_dst,cv2.COLOR_RGB2BGR))\n",
    "        \n",
    "        # mostrar actualización de bucle\n",
    "        i += 1"
   ]
  }
 ],
 "metadata": {
  "kernelspec": {
   "display_name": "Python 3 (ipykernel)",
   "language": "python",
   "name": "python3"
  },
  "language_info": {
   "codemirror_mode": {
    "name": "ipython",
    "version": 3
   },
   "file_extension": ".py",
   "mimetype": "text/x-python",
   "name": "python",
   "nbconvert_exporter": "python",
   "pygments_lexer": "ipython3",
   "version": "3.9.12"
  }
 },
 "nbformat": 4,
 "nbformat_minor": 5
}
