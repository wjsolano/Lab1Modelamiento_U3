{
 "cells": [
  {
   "cell_type": "markdown",
   "id": "5845d6f1",
   "metadata": {},
   "source": [
    "Presentado por: Mercy Arrobo - Solano Wilmer\n",
    "\n",
    "Fecha: 13/08/2022"
   ]
  },
  {
   "cell_type": "markdown",
   "id": "5a2e7671",
   "metadata": {},
   "source": [
    "# Importación de librerias necesarias"
   ]
  },
  {
   "cell_type": "code",
   "execution_count": 1,
   "id": "d8ce4a33",
   "metadata": {},
   "outputs": [],
   "source": [
    "#Importación de librerías necesarias\n",
    "import cv2\n",
    "import numpy as np\n",
    "import os\n",
    "os.environ['TF_CPP_MIN_LOG_LEVEL'] = '3' \n",
    "import shutil\n",
    "import glob\n",
    "import pandas as pd\n",
    "import matplotlib.pyplot as plt\n",
    "import seaborn as sn\n",
    "from keras.preprocessing.image import ImageDataGenerator\n",
    "from tensorflow.keras.utils import img_to_array, array_to_img, img_to_array, load_img\n",
    "from  PIL  import Image\n",
    "from rembg import remove\n",
    "from sklearn.preprocessing import MinMaxScaler\n",
    "import h5py\n",
    "from time import sleep\n",
    "#para la segunda parte\n",
    "from sklearn.metrics import accuracy_score, precision_score, recall_score, f1_score\n",
    "import tensorflow as tf\n",
    "from tensorflow.keras.utils import to_categorical\n",
    "from tensorflow.keras.applications.vgg16 import VGG16\n",
    "from tensorflow.keras.applications.vgg16 import preprocess_input\n",
    "from tensorflow.keras import layers, models\n",
    "from tensorflow.keras.callbacks import EarlyStopping\n",
    "from sklearn.model_selection import train_test_split\n",
    "#AlexNet\n",
    "from tensorflow import keras\n",
    "from keras.models import Sequential\n",
    "from keras.layers import Conv2D,MaxPooling2D,Dense,Flatten,Dropout\n",
    "from tensorflow.keras.layers import BatchNormalization"
   ]
  },
  {
   "cell_type": "markdown",
   "id": "1e8f3496",
   "metadata": {},
   "source": [
    "# Cargar el Dataset"
   ]
  },
  {
   "cell_type": "code",
   "execution_count": 12,
   "id": "6a7f79d3",
   "metadata": {},
   "outputs": [
    {
     "name": "stdout",
     "output_type": "stream",
     "text": [
      "['ArroboMercy', 'LeonardoBorja', 'PauteKevin', 'RivasSelena', 'Solano Wilmer']\n"
     ]
    }
   ],
   "source": [
    "\"\"\"Declarar y presentar la dirección donde se encuentran las imagenes\"\"\"\n",
    "ruta_imagen = \"./PROYECTOIA-U3\"\n",
    "nombre_clases = os.listdir(ruta_imagen )\n",
    "nombre_clases.sort()\n",
    "\"\"\"Presentando etiquetas\"\"\"\n",
    "print(nombre_clases)"
   ]
  },
  {
   "cell_type": "markdown",
   "id": "a5ff06f9",
   "metadata": {},
   "source": [
    "# Explique el problema a resolver"
   ]
  },
  {
   "cell_type": "markdown",
   "id": "59bf182d",
   "metadata": {},
   "source": [
    "Se desea desarrollar un modelo de IA basado en AlexNet, con el fin de identificar a un usuario usando un dataset de imagenes. Los usuarios serán los compañeros de clase, para este caso solo se va a trabajar con 5 de ellos. Con el respectivo procesamiento, el modelo deberá predecir con una imágen a qué compañero se hace referencia. "
   ]
  },
  {
   "cell_type": "markdown",
   "id": "d7d76f35",
   "metadata": {},
   "source": [
    "# Características del dataset"
   ]
  },
  {
   "cell_type": "markdown",
   "id": "2b500d4f",
   "metadata": {},
   "source": [
    "El dataset que se encuentra en el directorio mencionado se encuentran carpetas de cada estudiante en la cual contiene sus fotos. Las características que se pueden identificar al dataset son:\n",
    "\n",
    "NombreDelEstudiante= Se refiere al nombre de la carpeta donde se encuentran las imagenes de cada estudiantes.\n",
    "\n",
    "Foto: Las 3 fotos de cada compañero por carpeta\n",
    "\n",
    "Número total de fotos inicial: 15"
   ]
  },
  {
   "cell_type": "markdown",
   "id": "6ceb7dfe",
   "metadata": {},
   "source": [
    "# Procesamiento de imagenes"
   ]
  },
  {
   "cell_type": "code",
   "execution_count": 13,
   "id": "39671489",
   "metadata": {},
   "outputs": [
    {
     "name": "stdout",
     "output_type": "stream",
     "text": [
      "Copiando imagen - L00385770_1.png in PROYECTOIA-U3_Aumento/ArroboMercy\n",
      "Copiando imagen - L00385770_2.png in PROYECTOIA-U3_Aumento/ArroboMercy\n",
      "Copiando imagen - L00385770_3.png in PROYECTOIA-U3_Aumento/ArroboMercy\n",
      "Copiando imagen - L00393007_1.png in PROYECTOIA-U3_Aumento/LeonardoBorja\n",
      "Copiando imagen - L00393007_2.png in PROYECTOIA-U3_Aumento/LeonardoBorja\n",
      "Copiando imagen - L00393007_3.png in PROYECTOIA-U3_Aumento/LeonardoBorja\n",
      "Copiando imagen - L00080134_1.jpg in PROYECTOIA-U3_Aumento/PauteKevin\n",
      "Copiando imagen - L00080134_2.jpg in PROYECTOIA-U3_Aumento/PauteKevin\n",
      "Copiando imagen - L00080134_3.jpg in PROYECTOIA-U3_Aumento/PauteKevin\n",
      "Copiando imagen - L00376689_1.png in PROYECTOIA-U3_Aumento/RivasSelena\n",
      "Copiando imagen - L00376689_2.png in PROYECTOIA-U3_Aumento/RivasSelena\n",
      "Copiando imagen - L00376689_3.png in PROYECTOIA-U3_Aumento/RivasSelena\n",
      "Copiando imagen - L00392980_1.png in PROYECTOIA-U3_Aumento/Solano Wilmer\n",
      "Copiando imagen - L00392980_2.png in PROYECTOIA-U3_Aumento/Solano Wilmer\n",
      "Copiando imagen - L00392980_3.png in PROYECTOIA-U3_Aumento/Solano Wilmer\n"
     ]
    }
   ],
   "source": [
    "\"\"\"Ciclo for para reocrren el nombre de las etiquetas\"\"\"\n",
    "for nombre_clase in nombre_clases:\n",
    "    cur_path = ruta_imagen + \"/\" + nombre_clase\n",
    "    elements = os.listdir(cur_path)\n",
    "    \"\"\"Copiando las imágenes en una nueva carpeta\"\"\"\n",
    "    for element in elements:\n",
    "        print(\"Copiando imagen - {} in PROYECTOIA-U3_Aumento/{}\".format(element, nombre_clase))\n",
    "        src = os.path.join(ruta_imagen  + \"/\" + nombre_clase, element) # origen\n",
    "        dst = os.path.join(\"./PROYECTOIA-U3_Aumento/\" + nombre_clase, element) \n",
    "        shutil.copy(src, dst)"
   ]
  },
  {
   "cell_type": "markdown",
   "id": "5652ecd6",
   "metadata": {},
   "source": [
    "# Evaluación del Modelo"
   ]
  },
  {
   "cell_type": "code",
   "execution_count": 14,
   "id": "c2b29f47",
   "metadata": {},
   "outputs": [],
   "source": [
    "\"\"\"Generando imagenes nuevas\"\"\"\n",
    "datagen = ImageDataGenerator(\n",
    "        rotation_range=40,\n",
    "        width_shift_range=0.2,\n",
    "        height_shift_range=0.2,\n",
    "        rescale=1./255,\n",
    "        shear_range=0.2,\n",
    "        zoom_range=0.4,\n",
    "        horizontal_flip=True,\n",
    "        fill_mode='nearest')"
   ]
  },
  {
   "cell_type": "markdown",
   "id": "a291b9c8",
   "metadata": {},
   "source": [
    "# Arrobo Mercy"
   ]
  },
  {
   "cell_type": "code",
   "execution_count": 15,
   "id": "c82a32d0",
   "metadata": {},
   "outputs": [],
   "source": [
    "\"\"\"Creando imágenes para la carpeta de Mercy\"\"\"\n",
    "os.chdir(r\"C:\\Users\\wilme\\Laboratorio1_U3\\PROYECTOIA-U3_Aumento\\ArroboMercy\")\n",
    "for path in os.listdir():\n",
    "    img = load_img(f\"{path}\")\n",
    "    x = img_to_array(img)    \n",
    "    x = x.reshape((1,) + x.shape)\n",
    "    i = 0\n",
    "    for batch in datagen.flow(x, batch_size=1,\n",
    "            save_to_dir=\".\", \n",
    "            save_prefix= 'ArroboMercy', \n",
    "            save_format='png'):\n",
    "        i += 1\n",
    "        if i == 9:    \n",
    "            break "
   ]
  },
  {
   "cell_type": "markdown",
   "id": "73e703cc",
   "metadata": {},
   "source": [
    "# Leonardo Borja"
   ]
  },
  {
   "cell_type": "code",
   "execution_count": 16,
   "id": "4f0fadb0",
   "metadata": {},
   "outputs": [],
   "source": [
    "\"\"\"Creando imágenes para la carpeta de Borja\"\"\"\n",
    "os.chdir(r\"C:\\Users\\wilme\\Laboratorio1_U3\\PROYECTOIA-U3_Aumento\\LeonardoBorja\")\n",
    "for path in os.listdir():\n",
    "    img = load_img(f\"{path}\")\n",
    "    x = img_to_array(img)    \n",
    "    x = x.reshape((1,) + x.shape)\n",
    "    i = 0\n",
    "    for batch in datagen.flow(x, batch_size=1,\n",
    "            save_to_dir=\".\",  \n",
    "            save_prefix= 'LeonardoBorja', \n",
    "            save_format='png'):\n",
    "        i += 1\n",
    "        if i == 9:     \n",
    "            break "
   ]
  },
  {
   "cell_type": "markdown",
   "id": "2043f519",
   "metadata": {},
   "source": [
    "# Paute Kevin"
   ]
  },
  {
   "cell_type": "code",
   "execution_count": 17,
   "id": "1b3853dc",
   "metadata": {},
   "outputs": [],
   "source": [
    "\"\"\"Creando imágenes para la carpeta de Paute\"\"\"\n",
    "os.chdir(r\"C:\\Users\\wilme\\Laboratorio1_U3\\PROYECTOIA-U3_Aumento\\PauteKevin\")\n",
    "for path in os.listdir():\n",
    "    img = load_img(f\"{path}\")\n",
    "    x = img_to_array(img)    \n",
    "    x = x.reshape((1,) + x.shape)\n",
    "    i = 0\n",
    "    for batch in datagen.flow(x, batch_size=1,\n",
    "            save_to_dir=\".\",   \n",
    "            save_prefix= 'PauteKevin', \n",
    "            save_format='png'):\n",
    "        i += 1\n",
    "        if i == 9:     \n",
    "            break "
   ]
  },
  {
   "cell_type": "markdown",
   "id": "7f8a102f",
   "metadata": {},
   "source": [
    "# RivasSelena"
   ]
  },
  {
   "cell_type": "code",
   "execution_count": 18,
   "id": "aa265a84",
   "metadata": {},
   "outputs": [],
   "source": [
    "\"\"\"Creando imágenes para la carpeta de Rivas\"\"\"\n",
    "os.chdir(r\"C:\\Users\\wilme\\Laboratorio1_U3\\PROYECTOIA-U3_Aumento\\RivasSelena\")\n",
    "for path in os.listdir():\n",
    "    img = load_img(f\"{path}\")\n",
    "    x = img_to_array(img)    \n",
    "    x = x.reshape((1,) + x.shape)\n",
    "    i = 0\n",
    "    for batch in datagen.flow(x, batch_size=1,\n",
    "            save_to_dir=\".\",   \n",
    "            save_prefix= 'RivasSelena', \n",
    "            save_format='png'):\n",
    "        i += 1\n",
    "        if i == 9:     \n",
    "            break "
   ]
  },
  {
   "cell_type": "markdown",
   "id": "3383a3dc",
   "metadata": {},
   "source": [
    "# Solano Wilmer"
   ]
  },
  {
   "cell_type": "code",
   "execution_count": 19,
   "id": "f7a1a384",
   "metadata": {},
   "outputs": [],
   "source": [
    "\"\"\"Creando imágenes para la carpeta de Solano\"\"\"\n",
    "os.chdir(r\"C:\\Users\\wilme\\Laboratorio1_U3\\PROYECTOIA-U3_Aumento\\Solano Wilmer\")\n",
    "for path in os.listdir():\n",
    "    img = load_img(f\"{path}\")\n",
    "    x = img_to_array(img)    \n",
    "    x = x.reshape((1,) + x.shape)\n",
    "    i = 0\n",
    "    for batch in datagen.flow(x, batch_size=1,\n",
    "            save_to_dir=\".\",   \n",
    "            save_prefix= 'Solano Wilmer', \n",
    "            save_format='png'):\n",
    "        i += 1\n",
    "        if i == 9:     \n",
    "            break"
   ]
  },
  {
   "cell_type": "code",
   "execution_count": null,
   "id": "9d4c10f1",
   "metadata": {},
   "outputs": [],
   "source": []
  }
 ],
 "metadata": {
  "kernelspec": {
   "display_name": "Python 3 (ipykernel)",
   "language": "python",
   "name": "python3"
  },
  "language_info": {
   "codemirror_mode": {
    "name": "ipython",
    "version": 3
   },
   "file_extension": ".py",
   "mimetype": "text/x-python",
   "name": "python",
   "nbconvert_exporter": "python",
   "pygments_lexer": "ipython3",
   "version": "3.9.12"
  }
 },
 "nbformat": 4,
 "nbformat_minor": 5
}
