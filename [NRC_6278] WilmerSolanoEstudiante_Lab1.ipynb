{
 "cells": [
  {
   "cell_type": "markdown",
   "id": "d621f826",
   "metadata": {},
   "source": [
    "Presentado por: Mercy Arrobo - Solano Wilmer\n",
    "\n",
    "Fecha: 13/08/2022"
   ]
  },
  {
   "cell_type": "markdown",
   "id": "cef1bd88",
   "metadata": {},
   "source": [
    "# Importación de librerias necesarias"
   ]
  },
  {
   "cell_type": "code",
   "execution_count": 1,
   "id": "3f4d2846",
   "metadata": {},
   "outputs": [],
   "source": [
    "#Importación de librerías necesarias\n",
    "import cv2\n",
    "import numpy as np\n",
    "import os\n",
    "os.environ['TF_CPP_MIN_LOG_LEVEL'] = '3' \n",
    "import shutil\n",
    "import glob\n",
    "import pandas as pd\n",
    "import matplotlib.pyplot as plt\n",
    "import seaborn as sn\n",
    "from keras.preprocessing.image import ImageDataGenerator\n",
    "from tensorflow.keras.utils import img_to_array, array_to_img, img_to_array, load_img\n",
    "from  PIL  import Image\n",
    "from rembg import remove\n",
    "from sklearn.preprocessing import MinMaxScaler\n",
    "import h5py\n",
    "from time import sleep\n",
    "#para la segunda parte\n",
    "from sklearn.metrics import accuracy_score, precision_score, recall_score, f1_score\n",
    "import tensorflow as tf\n",
    "from tensorflow.keras.utils import to_categorical\n",
    "from tensorflow.keras.applications.vgg16 import VGG16\n",
    "from tensorflow.keras.applications.vgg16 import preprocess_input\n",
    "from tensorflow.keras import layers, models\n",
    "from tensorflow.keras.callbacks import EarlyStopping\n",
    "from sklearn.model_selection import train_test_split\n",
    "#AlexNet\n",
    "from tensorflow import keras\n",
    "from keras.models import Sequential\n",
    "from keras.layers import Conv2D,MaxPooling2D,Dense,Flatten,Dropout\n",
    "from tensorflow.keras.layers import BatchNormalization"
   ]
  },
  {
   "cell_type": "markdown",
   "id": "917fb573",
   "metadata": {},
   "source": [
    "# Cargar el Dataset"
   ]
  },
  {
   "cell_type": "code",
   "execution_count": 12,
   "id": "34f09d1b",
   "metadata": {},
   "outputs": [
    {
     "name": "stdout",
     "output_type": "stream",
     "text": [
      "['ArroboMercy', 'LeonardoBorja', 'PauteKevin', 'RivasSelena', 'Solano Wilmer']\n"
     ]
    }
   ],
   "source": [
    "\"\"\"Declarar y presentar la dirección donde se encuentran las imagenes\"\"\"\n",
    "ruta_imagen = \"./PROYECTOIA-U3\"\n",
    "nombre_clases = os.listdir(ruta_imagen )\n",
    "nombre_clases.sort()\n",
    "\"\"\"Presentando etiquetas\"\"\"\n",
    "print(nombre_clases)"
   ]
  },
  {
   "cell_type": "markdown",
   "id": "4c389eb0",
   "metadata": {},
   "source": [
    "# Explique el problema a resolver"
   ]
  },
  {
   "cell_type": "markdown",
   "id": "4cb2d5b8",
   "metadata": {},
   "source": [
    "Se desea desarrollar un modelo de IA basado en AlexNet, con el fin de identificar a un usuario usando un dataset de imagenes. Los usuarios serán los compañeros de clase, para este caso solo se va a trabajar con 5 de ellos. Con el respectivo procesamiento, el modelo deberá predecir con una imágen a qué compañero se hace referencia. "
   ]
  },
  {
   "cell_type": "markdown",
   "id": "8992cce0",
   "metadata": {},
   "source": [
    "# Características del dataset"
   ]
  },
  {
   "cell_type": "markdown",
   "id": "1b019991",
   "metadata": {},
   "source": [
    "El dataset que se encuentra en el directorio mencionado se encuentran carpetas de cada estudiante en la cual contiene sus fotos. Las características que se pueden identificar al dataset son:\n",
    "\n",
    "NombreDelEstudiante= Se refiere al nombre de la carpeta donde se encuentran las imagenes de cada estudiantes.\n",
    "\n",
    "Foto: Las 3 fotos de cada compañero por carpeta\n",
    "\n",
    "Número total de fotos inicial: 15"
   ]
  },
  {
   "cell_type": "markdown",
   "id": "a7537720",
   "metadata": {},
   "source": [
    "# Procesamiento de imagenes"
   ]
  },
  {
   "cell_type": "code",
   "execution_count": 13,
   "id": "90548c24",
   "metadata": {},
   "outputs": [
    {
     "name": "stdout",
     "output_type": "stream",
     "text": [
      "Copiando imagen - L00385770_1.png in PROYECTOIA-U3_Aumento/ArroboMercy\n",
      "Copiando imagen - L00385770_2.png in PROYECTOIA-U3_Aumento/ArroboMercy\n",
      "Copiando imagen - L00385770_3.png in PROYECTOIA-U3_Aumento/ArroboMercy\n",
      "Copiando imagen - L00393007_1.png in PROYECTOIA-U3_Aumento/LeonardoBorja\n",
      "Copiando imagen - L00393007_2.png in PROYECTOIA-U3_Aumento/LeonardoBorja\n",
      "Copiando imagen - L00393007_3.png in PROYECTOIA-U3_Aumento/LeonardoBorja\n",
      "Copiando imagen - L00080134_1.jpg in PROYECTOIA-U3_Aumento/PauteKevin\n",
      "Copiando imagen - L00080134_2.jpg in PROYECTOIA-U3_Aumento/PauteKevin\n",
      "Copiando imagen - L00080134_3.jpg in PROYECTOIA-U3_Aumento/PauteKevin\n",
      "Copiando imagen - L00376689_1.png in PROYECTOIA-U3_Aumento/RivasSelena\n",
      "Copiando imagen - L00376689_2.png in PROYECTOIA-U3_Aumento/RivasSelena\n",
      "Copiando imagen - L00376689_3.png in PROYECTOIA-U3_Aumento/RivasSelena\n",
      "Copiando imagen - L00392980_1.png in PROYECTOIA-U3_Aumento/Solano Wilmer\n",
      "Copiando imagen - L00392980_2.png in PROYECTOIA-U3_Aumento/Solano Wilmer\n",
      "Copiando imagen - L00392980_3.png in PROYECTOIA-U3_Aumento/Solano Wilmer\n"
     ]
    }
   ],
   "source": [
    "\"\"\"Ciclo for para reocrren el nombre de las etiquetas\"\"\"\n",
    "for nombre_clase in nombre_clases:\n",
    "    cur_path = ruta_imagen + \"/\" + nombre_clase\n",
    "    elements = os.listdir(cur_path)\n",
    "    \"\"\"Copiando las imágenes en una nueva carpeta\"\"\"\n",
    "    for element in elements:\n",
    "        print(\"Copiando imagen - {} in PROYECTOIA-U3_Aumento/{}\".format(element, nombre_clase))\n",
    "        src = os.path.join(ruta_imagen  + \"/\" + nombre_clase, element) # origen\n",
    "        dst = os.path.join(\"./PROYECTOIA-U3_Aumento/\" + nombre_clase, element) \n",
    "        shutil.copy(src, dst)"
   ]
  },
  {
   "cell_type": "markdown",
   "id": "656c2e88",
   "metadata": {},
   "source": [
    "# Evaluación del Modelo"
   ]
  },
  {
   "cell_type": "code",
   "execution_count": 14,
   "id": "12404332",
   "metadata": {},
   "outputs": [],
   "source": [
    "\"\"\"Generando imagenes nuevas\"\"\"\n",
    "datagen = ImageDataGenerator(\n",
    "        rotation_range=40,\n",
    "        width_shift_range=0.2,\n",
    "        height_shift_range=0.2,\n",
    "        rescale=1./255,\n",
    "        shear_range=0.2,\n",
    "        zoom_range=0.4,\n",
    "        horizontal_flip=True,\n",
    "        fill_mode='nearest')"
   ]
  },
  {
   "cell_type": "markdown",
   "id": "fbee8717",
   "metadata": {},
   "source": [
    "# Arrobo Mercy"
   ]
  },
  {
   "cell_type": "code",
   "execution_count": 15,
   "id": "5bcd5aa8",
   "metadata": {},
   "outputs": [],
   "source": [
    "\"\"\"Creando imágenes para la carpeta de Mercy\"\"\"\n",
    "os.chdir(r\"C:\\Users\\wilme\\Laboratorio1_U3\\PROYECTOIA-U3_Aumento\\ArroboMercy\")\n",
    "for path in os.listdir():\n",
    "    img = load_img(f\"{path}\")\n",
    "    x = img_to_array(img)    \n",
    "    x = x.reshape((1,) + x.shape)\n",
    "    i = 0\n",
    "    for batch in datagen.flow(x, batch_size=1,\n",
    "            save_to_dir=\".\", \n",
    "            save_prefix= 'ArroboMercy', \n",
    "            save_format='png'):\n",
    "        i += 1\n",
    "        if i == 9:    \n",
    "            break "
   ]
  },
  {
   "cell_type": "markdown",
   "id": "e13d0647",
   "metadata": {},
   "source": [
    "# Leonardo Borja"
   ]
  },
  {
   "cell_type": "code",
   "execution_count": 16,
   "id": "e1d43f11",
   "metadata": {},
   "outputs": [],
   "source": [
    "\"\"\"Creando imágenes para la carpeta de Borja\"\"\"\n",
    "os.chdir(r\"C:\\Users\\wilme\\Laboratorio1_U3\\PROYECTOIA-U3_Aumento\\LeonardoBorja\")\n",
    "for path in os.listdir():\n",
    "    img = load_img(f\"{path}\")\n",
    "    x = img_to_array(img)    \n",
    "    x = x.reshape((1,) + x.shape)\n",
    "    i = 0\n",
    "    for batch in datagen.flow(x, batch_size=1,\n",
    "            save_to_dir=\".\",  \n",
    "            save_prefix= 'LeonardoBorja', \n",
    "            save_format='png'):\n",
    "        i += 1\n",
    "        if i == 9:     \n",
    "            break "
   ]
  },
  {
   "cell_type": "markdown",
   "id": "6774f7ee",
   "metadata": {},
   "source": [
    "# Paute Kevin"
   ]
  },
  {
   "cell_type": "code",
   "execution_count": 17,
   "id": "73e761b9",
   "metadata": {},
   "outputs": [],
   "source": [
    "\"\"\"Creando imágenes para la carpeta de Paute\"\"\"\n",
    "os.chdir(r\"C:\\Users\\wilme\\Laboratorio1_U3\\PROYECTOIA-U3_Aumento\\PauteKevin\")\n",
    "for path in os.listdir():\n",
    "    img = load_img(f\"{path}\")\n",
    "    x = img_to_array(img)    \n",
    "    x = x.reshape((1,) + x.shape)\n",
    "    i = 0\n",
    "    for batch in datagen.flow(x, batch_size=1,\n",
    "            save_to_dir=\".\",   \n",
    "            save_prefix= 'PauteKevin', \n",
    "            save_format='png'):\n",
    "        i += 1\n",
    "        if i == 9:     \n",
    "            break "
   ]
  },
  {
   "cell_type": "markdown",
   "id": "f9044e43",
   "metadata": {},
   "source": [
    "# RivasSelena"
   ]
  },
  {
   "cell_type": "code",
   "execution_count": 18,
   "id": "bbe54f91",
   "metadata": {},
   "outputs": [],
   "source": [
    "\"\"\"Creando imágenes para la carpeta de Rivas\"\"\"\n",
    "os.chdir(r\"C:\\Users\\wilme\\Laboratorio1_U3\\PROYECTOIA-U3_Aumento\\RivasSelena\")\n",
    "for path in os.listdir():\n",
    "    img = load_img(f\"{path}\")\n",
    "    x = img_to_array(img)    \n",
    "    x = x.reshape((1,) + x.shape)\n",
    "    i = 0\n",
    "    for batch in datagen.flow(x, batch_size=1,\n",
    "            save_to_dir=\".\",   \n",
    "            save_prefix= 'RivasSelena', \n",
    "            save_format='png'):\n",
    "        i += 1\n",
    "        if i == 9:     \n",
    "            break "
   ]
  },
  {
   "cell_type": "markdown",
   "id": "8c3a65e4",
   "metadata": {},
   "source": [
    "# Solano Wilmer"
   ]
  },
  {
   "cell_type": "code",
   "execution_count": 19,
   "id": "8ee68078",
   "metadata": {},
   "outputs": [],
   "source": [
    "\"\"\"Creando imágenes para la carpeta de Solano\"\"\"\n",
    "os.chdir(r\"C:\\Users\\wilme\\Laboratorio1_U3\\PROYECTOIA-U3_Aumento\\Solano Wilmer\")\n",
    "for path in os.listdir():\n",
    "    img = load_img(f\"{path}\")\n",
    "    x = img_to_array(img)    \n",
    "    x = x.reshape((1,) + x.shape)\n",
    "    i = 0\n",
    "    for batch in datagen.flow(x, batch_size=1,\n",
    "            save_to_dir=\".\",   \n",
    "            save_prefix= 'Solano Wilmer', \n",
    "            save_format='png'):\n",
    "        i += 1\n",
    "        if i == 9:     \n",
    "            break"
   ]
  },
  {
   "cell_type": "markdown",
   "id": "d622149a",
   "metadata": {},
   "source": [
    "# Filtro NLM para eliminación de ruido de imágenes"
   ]
  },
  {
   "cell_type": "code",
   "execution_count": 20,
   "id": "982056dc",
   "metadata": {},
   "outputs": [
    {
     "name": "stdout",
     "output_type": "stream",
     "text": [
      "['ArroboMercy', 'LeonardoBorja', 'PauteKevin', 'RivasSelena', 'Solano Wilmer']\n"
     ]
    }
   ],
   "source": [
    "\"\"\"Obteniendo etiquetas de la nueva carpeta que se ha creado\"\"\"\n",
    "os.chdir(r\"C:\\Users\\wilme\\Laboratorio1_U3\")\n",
    "ruta_imagen = \"./PROYECTOIA-U3_Aumento\"\n",
    "nombre_clases = os.listdir(ruta_imagen)\n",
    "nombre_clases.sort()\n",
    "print(nombre_clases)"
   ]
  },
  {
   "cell_type": "code",
   "execution_count": 21,
   "id": "da4e13e2",
   "metadata": {},
   "outputs": [
    {
     "name": "stdout",
     "output_type": "stream",
     "text": [
      "Imagen de procesamiento - 1 in ArroboMercy\n",
      "Imagen de procesamiento - 2 in ArroboMercy\n",
      "Imagen de procesamiento - 3 in ArroboMercy\n",
      "Imagen de procesamiento - 4 in ArroboMercy\n",
      "Imagen de procesamiento - 5 in ArroboMercy\n",
      "Imagen de procesamiento - 6 in ArroboMercy\n",
      "Imagen de procesamiento - 7 in ArroboMercy\n",
      "Imagen de procesamiento - 8 in ArroboMercy\n",
      "Imagen de procesamiento - 9 in ArroboMercy\n",
      "Imagen de procesamiento - 10 in ArroboMercy\n",
      "Imagen de procesamiento - 11 in ArroboMercy\n",
      "Imagen de procesamiento - 12 in ArroboMercy\n",
      "Imagen de procesamiento - 13 in ArroboMercy\n",
      "Imagen de procesamiento - 14 in ArroboMercy\n",
      "Imagen de procesamiento - 15 in ArroboMercy\n",
      "Imagen de procesamiento - 16 in ArroboMercy\n",
      "Imagen de procesamiento - 17 in ArroboMercy\n",
      "Imagen de procesamiento - 18 in ArroboMercy\n",
      "Imagen de procesamiento - 19 in ArroboMercy\n",
      "Imagen de procesamiento - 20 in ArroboMercy\n",
      "Imagen de procesamiento - 21 in ArroboMercy\n",
      "Imagen de procesamiento - 22 in ArroboMercy\n",
      "Imagen de procesamiento - 23 in ArroboMercy\n",
      "Imagen de procesamiento - 24 in ArroboMercy\n",
      "Imagen de procesamiento - 25 in ArroboMercy\n",
      "Imagen de procesamiento - 26 in ArroboMercy\n",
      "Imagen de procesamiento - 27 in ArroboMercy\n",
      "Imagen de procesamiento - 28 in ArroboMercy\n",
      "Imagen de procesamiento - 29 in ArroboMercy\n",
      "Imagen de procesamiento - 30 in ArroboMercy\n",
      "Imagen de procesamiento - 1 in LeonardoBorja\n",
      "Imagen de procesamiento - 2 in LeonardoBorja\n",
      "Imagen de procesamiento - 3 in LeonardoBorja\n",
      "Imagen de procesamiento - 4 in LeonardoBorja\n",
      "Imagen de procesamiento - 5 in LeonardoBorja\n",
      "Imagen de procesamiento - 6 in LeonardoBorja\n",
      "Imagen de procesamiento - 7 in LeonardoBorja\n",
      "Imagen de procesamiento - 8 in LeonardoBorja\n",
      "Imagen de procesamiento - 9 in LeonardoBorja\n",
      "Imagen de procesamiento - 10 in LeonardoBorja\n",
      "Imagen de procesamiento - 11 in LeonardoBorja\n",
      "Imagen de procesamiento - 12 in LeonardoBorja\n",
      "Imagen de procesamiento - 13 in LeonardoBorja\n",
      "Imagen de procesamiento - 14 in LeonardoBorja\n",
      "Imagen de procesamiento - 15 in LeonardoBorja\n",
      "Imagen de procesamiento - 16 in LeonardoBorja\n",
      "Imagen de procesamiento - 17 in LeonardoBorja\n",
      "Imagen de procesamiento - 18 in LeonardoBorja\n",
      "Imagen de procesamiento - 19 in LeonardoBorja\n",
      "Imagen de procesamiento - 20 in LeonardoBorja\n",
      "Imagen de procesamiento - 21 in LeonardoBorja\n",
      "Imagen de procesamiento - 22 in LeonardoBorja\n",
      "Imagen de procesamiento - 23 in LeonardoBorja\n",
      "Imagen de procesamiento - 24 in LeonardoBorja\n",
      "Imagen de procesamiento - 25 in LeonardoBorja\n",
      "Imagen de procesamiento - 26 in LeonardoBorja\n",
      "Imagen de procesamiento - 27 in LeonardoBorja\n",
      "Imagen de procesamiento - 28 in LeonardoBorja\n",
      "Imagen de procesamiento - 29 in LeonardoBorja\n",
      "Imagen de procesamiento - 30 in LeonardoBorja\n",
      "Imagen de procesamiento - 1 in PauteKevin\n",
      "Imagen de procesamiento - 2 in PauteKevin\n",
      "Imagen de procesamiento - 3 in PauteKevin\n",
      "Imagen de procesamiento - 4 in PauteKevin\n",
      "Imagen de procesamiento - 5 in PauteKevin\n",
      "Imagen de procesamiento - 6 in PauteKevin\n",
      "Imagen de procesamiento - 7 in PauteKevin\n",
      "Imagen de procesamiento - 8 in PauteKevin\n",
      "Imagen de procesamiento - 9 in PauteKevin\n",
      "Imagen de procesamiento - 10 in PauteKevin\n",
      "Imagen de procesamiento - 11 in PauteKevin\n",
      "Imagen de procesamiento - 12 in PauteKevin\n",
      "Imagen de procesamiento - 13 in PauteKevin\n",
      "Imagen de procesamiento - 14 in PauteKevin\n",
      "Imagen de procesamiento - 15 in PauteKevin\n",
      "Imagen de procesamiento - 16 in PauteKevin\n",
      "Imagen de procesamiento - 17 in PauteKevin\n",
      "Imagen de procesamiento - 18 in PauteKevin\n",
      "Imagen de procesamiento - 19 in PauteKevin\n",
      "Imagen de procesamiento - 20 in PauteKevin\n",
      "Imagen de procesamiento - 21 in PauteKevin\n",
      "Imagen de procesamiento - 22 in PauteKevin\n",
      "Imagen de procesamiento - 23 in PauteKevin\n",
      "Imagen de procesamiento - 24 in PauteKevin\n",
      "Imagen de procesamiento - 25 in PauteKevin\n",
      "Imagen de procesamiento - 26 in PauteKevin\n",
      "Imagen de procesamiento - 27 in PauteKevin\n",
      "Imagen de procesamiento - 28 in PauteKevin\n",
      "Imagen de procesamiento - 29 in PauteKevin\n",
      "Imagen de procesamiento - 30 in PauteKevin\n",
      "Imagen de procesamiento - 1 in RivasSelena\n",
      "Imagen de procesamiento - 2 in RivasSelena\n",
      "Imagen de procesamiento - 3 in RivasSelena\n",
      "Imagen de procesamiento - 4 in RivasSelena\n",
      "Imagen de procesamiento - 5 in RivasSelena\n",
      "Imagen de procesamiento - 6 in RivasSelena\n",
      "Imagen de procesamiento - 7 in RivasSelena\n",
      "Imagen de procesamiento - 8 in RivasSelena\n",
      "Imagen de procesamiento - 9 in RivasSelena\n",
      "Imagen de procesamiento - 10 in RivasSelena\n",
      "Imagen de procesamiento - 11 in RivasSelena\n",
      "Imagen de procesamiento - 12 in RivasSelena\n",
      "Imagen de procesamiento - 13 in RivasSelena\n",
      "Imagen de procesamiento - 14 in RivasSelena\n",
      "Imagen de procesamiento - 15 in RivasSelena\n",
      "Imagen de procesamiento - 16 in RivasSelena\n",
      "Imagen de procesamiento - 17 in RivasSelena\n",
      "Imagen de procesamiento - 18 in RivasSelena\n",
      "Imagen de procesamiento - 19 in RivasSelena\n",
      "Imagen de procesamiento - 20 in RivasSelena\n",
      "Imagen de procesamiento - 21 in RivasSelena\n",
      "Imagen de procesamiento - 22 in RivasSelena\n",
      "Imagen de procesamiento - 23 in RivasSelena\n",
      "Imagen de procesamiento - 24 in RivasSelena\n",
      "Imagen de procesamiento - 25 in RivasSelena\n",
      "Imagen de procesamiento - 26 in RivasSelena\n",
      "Imagen de procesamiento - 27 in RivasSelena\n",
      "Imagen de procesamiento - 28 in RivasSelena\n",
      "Imagen de procesamiento - 29 in RivasSelena\n",
      "Imagen de procesamiento - 30 in RivasSelena\n",
      "Imagen de procesamiento - 1 in Solano Wilmer\n",
      "Imagen de procesamiento - 2 in Solano Wilmer\n",
      "Imagen de procesamiento - 3 in Solano Wilmer\n",
      "Imagen de procesamiento - 4 in Solano Wilmer\n",
      "Imagen de procesamiento - 5 in Solano Wilmer\n",
      "Imagen de procesamiento - 6 in Solano Wilmer\n",
      "Imagen de procesamiento - 7 in Solano Wilmer\n",
      "Imagen de procesamiento - 8 in Solano Wilmer\n",
      "Imagen de procesamiento - 9 in Solano Wilmer\n",
      "Imagen de procesamiento - 10 in Solano Wilmer\n",
      "Imagen de procesamiento - 11 in Solano Wilmer\n",
      "Imagen de procesamiento - 12 in Solano Wilmer\n",
      "Imagen de procesamiento - 13 in Solano Wilmer\n",
      "Imagen de procesamiento - 14 in Solano Wilmer\n",
      "Imagen de procesamiento - 15 in Solano Wilmer\n",
      "Imagen de procesamiento - 16 in Solano Wilmer\n",
      "Imagen de procesamiento - 17 in Solano Wilmer\n",
      "Imagen de procesamiento - 18 in Solano Wilmer\n",
      "Imagen de procesamiento - 19 in Solano Wilmer\n",
      "Imagen de procesamiento - 20 in Solano Wilmer\n",
      "Imagen de procesamiento - 21 in Solano Wilmer\n",
      "Imagen de procesamiento - 22 in Solano Wilmer\n",
      "Imagen de procesamiento - 23 in Solano Wilmer\n",
      "Imagen de procesamiento - 24 in Solano Wilmer\n",
      "Imagen de procesamiento - 25 in Solano Wilmer\n",
      "Imagen de procesamiento - 26 in Solano Wilmer\n",
      "Imagen de procesamiento - 27 in Solano Wilmer\n",
      "Imagen de procesamiento - 28 in Solano Wilmer\n",
      "Imagen de procesamiento - 29 in Solano Wilmer\n",
      "Imagen de procesamiento - 30 in Solano Wilmer\n"
     ]
    }
   ],
   "source": [
    "\"\"\"Recorriendo la ruta y el nombre de cada carpeta\"\"\"\n",
    "for nombre_clase in nombre_clases:\n",
    "    cur_path = ruta_imagen + \"/\" + nombre_clase\n",
    "    cur_label = nombre_clase\n",
    "    i = 1\n",
    "    \"\"\"Ciclo for para que se elimine el ruido de cada imágen\"\"\"\n",
    "    for file in glob.glob(cur_path + \"/*\"):\n",
    "        print(\"Imagen de procesamiento - {} in {}\".format(i, cur_label))\n",
    "        # leer la ruta de las imágenes\n",
    "        image = cv2.imread(file)\n",
    "        # Imágenes de denoising\n",
    "        dst = cv2.fastNlMeansDenoisingColored(image,None,10,10,7,21)\n",
    "        b,g,r = cv2.split(dst)\n",
    "        rgb_dst = cv2.merge([r,g,b])\n",
    "        # guardando imágenes\n",
    "        save_path = './PROYECTOIA-U3_eliminarRuido/'+ cur_label\n",
    "        cv2.imwrite(os.path.join(save_path , cur_label + '_' + str(i) + '.png'),\n",
    "                    cv2.cvtColor(rgb_dst,cv2.COLOR_RGB2BGR))\n",
    "        \n",
    "        # mostrar actualización de bucle\n",
    "        i += 1"
   ]
  },
  {
   "cell_type": "markdown",
   "id": "0ece2143",
   "metadata": {},
   "source": [
    "# Eliminación de fondo"
   ]
  },
  {
   "cell_type": "code",
   "execution_count": 22,
   "id": "4d84283b",
   "metadata": {},
   "outputs": [
    {
     "name": "stdout",
     "output_type": "stream",
     "text": [
      "['ArroboMercy', 'LeonardoBorja', 'PauteKevin', 'RivasSelena', 'Solano Wilmer']\n"
     ]
    }
   ],
   "source": [
    "\"\"\"Obteniendo etiquetas de la nueva carpeta que se ha creado\"\"\"\n",
    "ruta_imagen = \"./PROYECTOIA-U3_eliminarRuido\"\n",
    "nombre_clases = os.listdir(ruta_imagen)\n",
    "nombre_clases.sort()\n",
    "print(nombre_clases)"
   ]
  },
  {
   "cell_type": "code",
   "execution_count": 23,
   "id": "ce0395e3",
   "metadata": {},
   "outputs": [
    {
     "name": "stdout",
     "output_type": "stream",
     "text": [
      "Imágen de procesamiento - 1 in ArroboMercy\n",
      "Imágen de procesamiento - 2 in ArroboMercy\n",
      "Imágen de procesamiento - 3 in ArroboMercy\n",
      "Imágen de procesamiento - 4 in ArroboMercy\n",
      "Imágen de procesamiento - 5 in ArroboMercy\n",
      "Imágen de procesamiento - 6 in ArroboMercy\n",
      "Imágen de procesamiento - 7 in ArroboMercy\n",
      "Imágen de procesamiento - 8 in ArroboMercy\n",
      "Imágen de procesamiento - 9 in ArroboMercy\n",
      "Imágen de procesamiento - 10 in ArroboMercy\n",
      "Imágen de procesamiento - 11 in ArroboMercy\n",
      "Imágen de procesamiento - 12 in ArroboMercy\n",
      "Imágen de procesamiento - 13 in ArroboMercy\n",
      "Imágen de procesamiento - 14 in ArroboMercy\n",
      "Imágen de procesamiento - 15 in ArroboMercy\n",
      "Imágen de procesamiento - 16 in ArroboMercy\n",
      "Imágen de procesamiento - 17 in ArroboMercy\n",
      "Imágen de procesamiento - 18 in ArroboMercy\n",
      "Imágen de procesamiento - 19 in ArroboMercy\n",
      "Imágen de procesamiento - 20 in ArroboMercy\n",
      "Imágen de procesamiento - 21 in ArroboMercy\n",
      "Imágen de procesamiento - 22 in ArroboMercy\n",
      "Imágen de procesamiento - 23 in ArroboMercy\n",
      "Imágen de procesamiento - 24 in ArroboMercy\n",
      "Imágen de procesamiento - 25 in ArroboMercy\n",
      "Imágen de procesamiento - 26 in ArroboMercy\n",
      "Imágen de procesamiento - 27 in ArroboMercy\n",
      "Imágen de procesamiento - 28 in ArroboMercy\n",
      "Imágen de procesamiento - 29 in ArroboMercy\n",
      "Imágen de procesamiento - 30 in ArroboMercy\n",
      "Imágen de procesamiento - 1 in LeonardoBorja\n",
      "Imágen de procesamiento - 2 in LeonardoBorja\n",
      "Imágen de procesamiento - 3 in LeonardoBorja\n",
      "Imágen de procesamiento - 4 in LeonardoBorja\n",
      "Imágen de procesamiento - 5 in LeonardoBorja\n",
      "Imágen de procesamiento - 6 in LeonardoBorja\n",
      "Imágen de procesamiento - 7 in LeonardoBorja\n",
      "Imágen de procesamiento - 8 in LeonardoBorja\n",
      "Imágen de procesamiento - 9 in LeonardoBorja\n",
      "Imágen de procesamiento - 10 in LeonardoBorja\n",
      "Imágen de procesamiento - 11 in LeonardoBorja\n",
      "Imágen de procesamiento - 12 in LeonardoBorja\n",
      "Imágen de procesamiento - 13 in LeonardoBorja\n",
      "Imágen de procesamiento - 14 in LeonardoBorja\n",
      "Imágen de procesamiento - 15 in LeonardoBorja\n",
      "Imágen de procesamiento - 16 in LeonardoBorja\n",
      "Imágen de procesamiento - 17 in LeonardoBorja\n",
      "Imágen de procesamiento - 18 in LeonardoBorja\n",
      "Imágen de procesamiento - 19 in LeonardoBorja\n",
      "Imágen de procesamiento - 20 in LeonardoBorja\n",
      "Imágen de procesamiento - 21 in LeonardoBorja\n",
      "Imágen de procesamiento - 22 in LeonardoBorja\n",
      "Imágen de procesamiento - 23 in LeonardoBorja\n",
      "Imágen de procesamiento - 24 in LeonardoBorja\n",
      "Imágen de procesamiento - 25 in LeonardoBorja\n",
      "Imágen de procesamiento - 26 in LeonardoBorja\n",
      "Imágen de procesamiento - 27 in LeonardoBorja\n",
      "Imágen de procesamiento - 28 in LeonardoBorja\n",
      "Imágen de procesamiento - 29 in LeonardoBorja\n",
      "Imágen de procesamiento - 30 in LeonardoBorja\n",
      "Imágen de procesamiento - 1 in PauteKevin\n",
      "Imágen de procesamiento - 2 in PauteKevin\n",
      "Imágen de procesamiento - 3 in PauteKevin\n",
      "Imágen de procesamiento - 4 in PauteKevin\n",
      "Imágen de procesamiento - 5 in PauteKevin\n",
      "Imágen de procesamiento - 6 in PauteKevin\n",
      "Imágen de procesamiento - 7 in PauteKevin\n",
      "Imágen de procesamiento - 8 in PauteKevin\n",
      "Imágen de procesamiento - 9 in PauteKevin\n",
      "Imágen de procesamiento - 10 in PauteKevin\n",
      "Imágen de procesamiento - 11 in PauteKevin\n",
      "Imágen de procesamiento - 12 in PauteKevin\n",
      "Imágen de procesamiento - 13 in PauteKevin\n",
      "Imágen de procesamiento - 14 in PauteKevin\n",
      "Imágen de procesamiento - 15 in PauteKevin\n",
      "Imágen de procesamiento - 16 in PauteKevin\n",
      "Imágen de procesamiento - 17 in PauteKevin\n",
      "Imágen de procesamiento - 18 in PauteKevin\n",
      "Imágen de procesamiento - 19 in PauteKevin\n",
      "Imágen de procesamiento - 20 in PauteKevin\n",
      "Imágen de procesamiento - 21 in PauteKevin\n",
      "Imágen de procesamiento - 22 in PauteKevin\n",
      "Imágen de procesamiento - 23 in PauteKevin\n",
      "Imágen de procesamiento - 24 in PauteKevin\n",
      "Imágen de procesamiento - 25 in PauteKevin\n",
      "Imágen de procesamiento - 26 in PauteKevin\n",
      "Imágen de procesamiento - 27 in PauteKevin\n",
      "Imágen de procesamiento - 28 in PauteKevin\n",
      "Imágen de procesamiento - 29 in PauteKevin\n",
      "Imágen de procesamiento - 30 in PauteKevin\n",
      "Imágen de procesamiento - 1 in RivasSelena\n",
      "Imágen de procesamiento - 2 in RivasSelena\n",
      "Imágen de procesamiento - 3 in RivasSelena\n",
      "Imágen de procesamiento - 4 in RivasSelena\n",
      "Imágen de procesamiento - 5 in RivasSelena\n",
      "Imágen de procesamiento - 6 in RivasSelena\n",
      "Imágen de procesamiento - 7 in RivasSelena\n",
      "Imágen de procesamiento - 8 in RivasSelena\n",
      "Imágen de procesamiento - 9 in RivasSelena\n",
      "Imágen de procesamiento - 10 in RivasSelena\n",
      "Imágen de procesamiento - 11 in RivasSelena\n",
      "Imágen de procesamiento - 12 in RivasSelena\n",
      "Imágen de procesamiento - 13 in RivasSelena\n",
      "Imágen de procesamiento - 14 in RivasSelena\n",
      "Imágen de procesamiento - 15 in RivasSelena\n",
      "Imágen de procesamiento - 16 in RivasSelena\n",
      "Imágen de procesamiento - 17 in RivasSelena\n",
      "Imágen de procesamiento - 18 in RivasSelena\n",
      "Imágen de procesamiento - 19 in RivasSelena\n",
      "Imágen de procesamiento - 20 in RivasSelena\n",
      "Imágen de procesamiento - 21 in RivasSelena\n",
      "Imágen de procesamiento - 22 in RivasSelena\n",
      "Imágen de procesamiento - 23 in RivasSelena\n",
      "Imágen de procesamiento - 24 in RivasSelena\n",
      "Imágen de procesamiento - 25 in RivasSelena\n",
      "Imágen de procesamiento - 26 in RivasSelena\n",
      "Imágen de procesamiento - 27 in RivasSelena\n",
      "Imágen de procesamiento - 28 in RivasSelena\n",
      "Imágen de procesamiento - 29 in RivasSelena\n",
      "Imágen de procesamiento - 30 in RivasSelena\n",
      "Imágen de procesamiento - 1 in Solano Wilmer\n",
      "Imágen de procesamiento - 2 in Solano Wilmer\n",
      "Imágen de procesamiento - 3 in Solano Wilmer\n",
      "Imágen de procesamiento - 4 in Solano Wilmer\n",
      "Imágen de procesamiento - 5 in Solano Wilmer\n",
      "Imágen de procesamiento - 6 in Solano Wilmer\n",
      "Imágen de procesamiento - 7 in Solano Wilmer\n",
      "Imágen de procesamiento - 8 in Solano Wilmer\n",
      "Imágen de procesamiento - 9 in Solano Wilmer\n",
      "Imágen de procesamiento - 10 in Solano Wilmer\n",
      "Imágen de procesamiento - 11 in Solano Wilmer\n",
      "Imágen de procesamiento - 12 in Solano Wilmer\n",
      "Imágen de procesamiento - 13 in Solano Wilmer\n",
      "Imágen de procesamiento - 14 in Solano Wilmer\n",
      "Imágen de procesamiento - 15 in Solano Wilmer\n",
      "Imágen de procesamiento - 16 in Solano Wilmer\n",
      "Imágen de procesamiento - 17 in Solano Wilmer\n",
      "Imágen de procesamiento - 18 in Solano Wilmer\n",
      "Imágen de procesamiento - 19 in Solano Wilmer\n",
      "Imágen de procesamiento - 20 in Solano Wilmer\n",
      "Imágen de procesamiento - 21 in Solano Wilmer\n",
      "Imágen de procesamiento - 22 in Solano Wilmer\n",
      "Imágen de procesamiento - 23 in Solano Wilmer\n",
      "Imágen de procesamiento - 24 in Solano Wilmer\n",
      "Imágen de procesamiento - 25 in Solano Wilmer\n",
      "Imágen de procesamiento - 26 in Solano Wilmer\n",
      "Imágen de procesamiento - 27 in Solano Wilmer\n",
      "Imágen de procesamiento - 28 in Solano Wilmer\n",
      "Imágen de procesamiento - 29 in Solano Wilmer\n",
      "Imágen de procesamiento - 30 in Solano Wilmer\n"
     ]
    }
   ],
   "source": [
    "\"\"\"Recorriendo la ruta y el nombre de cada carpeta\"\"\"\n",
    "for nombre_clase in nombre_clases:\n",
    "    cur_path = ruta_imagen + \"/\" + nombre_clase\n",
    "    cur_label = nombre_clase\n",
    "    i = 1\n",
    "    \"\"\"Ciclo for para que se elimine el ruido de cada imágen\"\"\"\n",
    "    for file in glob.glob(cur_path + \"/*\"):\n",
    "        print(\"Imágen de procesamiento - {} in {}\".format(i, cur_label))\n",
    "        # leer la ruta de las imágenes\n",
    "        image = cv2.imread(file)\n",
    "        # removiendo bg \n",
    "        output = remove(image)\n",
    "        # guardando imágenes\n",
    "        save_path = './PROYECTOIA-U3_eliminarBG/'+ cur_label\n",
    "        cv2.imwrite(os.path.join(save_path , cur_label + '_' + str(i) + '.png'), output)\n",
    "        \n",
    "\n",
    "        # mostrar actualización de bucle\n",
    "        i += 1"
   ]
  },
  {
   "cell_type": "code",
   "execution_count": null,
   "id": "28a17929",
   "metadata": {},
   "outputs": [],
   "source": []
  }
 ],
 "metadata": {
  "kernelspec": {
   "display_name": "Python 3 (ipykernel)",
   "language": "python",
   "name": "python3"
  },
  "language_info": {
   "codemirror_mode": {
    "name": "ipython",
    "version": 3
   },
   "file_extension": ".py",
   "mimetype": "text/x-python",
   "name": "python",
   "nbconvert_exporter": "python",
   "pygments_lexer": "ipython3",
   "version": "3.9.12"
  }
 },
 "nbformat": 4,
 "nbformat_minor": 5
}
